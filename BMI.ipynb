{
  "nbformat": 4,
  "nbformat_minor": 0,
  "metadata": {
    "colab": {
      "provenance": [],
      "authorship_tag": "ABX9TyOU0mxQhZV7aOQX3NgrEpu/",
      "include_colab_link": true
    },
    "kernelspec": {
      "name": "python3",
      "display_name": "Python 3"
    },
    "language_info": {
      "name": "python"
    }
  },
  "cells": [
    {
      "cell_type": "markdown",
      "metadata": {
        "id": "view-in-github",
        "colab_type": "text"
      },
      "source": [
        "<a href=\"https://colab.research.google.com/github/Suresh-kg/naan/blob/main/BMI.ipynb\" target=\"_parent\"><img src=\"https://colab.research.google.com/assets/colab-badge.svg\" alt=\"Open In Colab\"/></a>"
      ]
    },
    {
      "cell_type": "code",
      "execution_count": null,
      "metadata": {
        "colab": {
          "base_uri": "https://localhost:8080/"
        },
        "id": "ARL6qnJQZfMq",
        "outputId": "011b530d-fdb0-4188-d5cd-08caeff51e38"
      },
      "outputs": [
        {
          "output_type": "stream",
          "name": "stdout",
          "text": [
            "BMI Category: Normal weight\n",
            "Average Heart Rate: 76.14285714285714\n",
            "Max Heart Rate: 82\n",
            "Min Heart Rate: 70\n",
            "      Name  Age  Cholesterol\n",
            "0    Alice   30          180\n",
            "1      Bob   45          220\n",
            "2  Charlie   60          250\n",
            "\n",
            "High Cholesterol Patients:\n",
            "      Name  Age  Cholesterol\n",
            "1      Bob   45          220\n",
            "2  Charlie   60          250\n",
            "\n",
            "Sorted Patients by BMI (Highest to Lowest):\n",
            "      Name  Age  Cholesterol   BMI\n",
            "2  Charlie   60          250  31.2\n",
            "1      Bob   45          220  28.0\n",
            "0    Alice   30          180  24.5\n",
            "\n",
            "Patients with Risk Levels:\n",
            "      Name  Age  Cholesterol   BMI Risk Level\n",
            "0    Alice   30          180  24.5        Low\n",
            "1      Bob   45          220  28.0     Medium\n",
            "2  Charlie   60          250  31.2       High\n",
            "\n",
            "Patient data saved to patient_data.csv\n"
          ]
        }
      ],
      "source": [
        "import numpy as np\n",
        "import pandas as pd\n",
        "\n",
        "# 1. Variable Assignment\n",
        "name = \"Alice\"\n",
        "age = 30\n",
        "bmi = 24.5\n",
        "\n",
        "# 2. Arithmetic Operations (Calculating BMI Category)\n",
        "def calculate_bmi_category(bmi):\n",
        "    if bmi < 18.5:\n",
        "        return \"Underweight\"\n",
        "    elif 18.5 <= bmi < 25:\n",
        "        return \"Normal weight\"\n",
        "    elif 25 <= bmi < 30:\n",
        "        return \"Overweight\"\n",
        "    else:\n",
        "        return \"Obese\"\n",
        "\n",
        "bmi_category = calculate_bmi_category(bmi)\n",
        "print(f\"BMI Category: {bmi_category}\")\n",
        "\n",
        "# 3. NumPy Basics (Analyzing Patient Vital Signs)\n",
        "heart_rates = np.array([72, 75, 80, 78, 82, 76, 70])\n",
        "average_heart_rate = np.mean(heart_rates)\n",
        "max_heart_rate = np.max(heart_rates)\n",
        "min_heart_rate = np.min(heart_rates)\n",
        "\n",
        "print(f\"Average Heart Rate: {average_heart_rate}\")\n",
        "print(f\"Max Heart Rate: {max_heart_rate}\")\n",
        "print(f\"Min Heart Rate: {min_heart_rate}\")\n",
        "\n",
        "# 4. Pandas Basics (Creating a Patient Record DataFrame)\n",
        "data = {'Name': ['Alice', 'Bob', 'Charlie'],\n",
        "        'Age': [30, 45, 60],\n",
        "        'Cholesterol': [180, 220, 250]}\n",
        "df = pd.DataFrame(data)\n",
        "print(df)\n",
        "\n",
        "# 5. Data Manipulation with Pandas (Filtering High-Risk Patients)\n",
        "threshold = 200\n",
        "high_cholesterol_patients = df[df['Cholesterol'] > threshold]\n",
        "print(\"\\nHigh Cholesterol Patients:\")\n",
        "print(high_cholesterol_patients)\n",
        "\n",
        "# 6. Sorting Patients by Health Risk (BMI from highest to lowest)\n",
        "# (Assuming BMI is added to the DataFrame)\n",
        "bmi_values = [24.5, 28.0, 31.2]  # Example BMI values\n",
        "df['BMI'] = bmi_values\n",
        "sorted_df = df.sort_values(by='BMI', ascending=False)\n",
        "print(\"\\nSorted Patients by BMI (Highest to Lowest):\")\n",
        "print(sorted_df)\n",
        "\n",
        "# 7. Adding a New Column (Risk Level Calculation)\n",
        "def calculate_risk_level(row):\n",
        "    if row['BMI'] < 25 and row['Cholesterol'] < 200:\n",
        "        return \"Low\"\n",
        "    elif (25 <= row['BMI'] < 30 and 200 <= row['Cholesterol'] < 240) or \\\n",
        "         (row['BMI'] < 25 and row['Cholesterol'] >= 200):\n",
        "        return \"Medium\"\n",
        "    else:\n",
        "        return \"High\"\n",
        "\n",
        "df['Risk Level'] = df.apply(calculate_risk_level, axis=1)\n",
        "print(\"\\nPatients with Risk Levels:\")\n",
        "print(df)\n",
        "\n",
        "# 8. Saving Processed Data\n",
        "df.to_csv(\"patient_data.csv\", index=False)\n",
        "print(\"\\nPatient data saved to patient_data.csv\")"
      ]
    },
    {
      "cell_type": "code",
      "source": [],
      "metadata": {
        "id": "nc9EDJIYZ4l7"
      },
      "execution_count": null,
      "outputs": []
    }
  ]
}